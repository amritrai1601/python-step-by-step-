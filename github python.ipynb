{
 "cells": [
  {
   "cell_type": "code",
   "execution_count": 1,
   "metadata": {},
   "outputs": [
    {
     "name": "stdout",
     "output_type": "stream",
     "text": [
      "hello this is shelby\n"
     ]
    }
   ],
   "source": [
    "x= (\"hello this is shelby\")\n",
    "print(x)"
   ]
  },
  {
   "cell_type": "code",
   "execution_count": 3,
   "metadata": {},
   "outputs": [
    {
     "name": "stdout",
     "output_type": "stream",
     "text": [
      "you're great\n"
     ]
    }
   ],
   "source": [
    "#hence we should keep this in mind how to use this wisely \n",
    "#for example \n",
    "x=\"you're great\"\n",
    "print(x)"
   ]
  },
  {
   "cell_type": "code",
   "execution_count": 4,
   "metadata": {},
   "outputs": [
    {
     "name": "stdout",
     "output_type": "stream",
     "text": [
      "string 1\n",
      "string 2\n"
     ]
    }
   ],
   "source": [
    "#printing multiple strings\n",
    "print('string 1')\n",
    "print('string 2')#we have to give print command  to both of them for taking print "
   ]
  },
  {
   "cell_type": "code",
   "execution_count": 7,
   "metadata": {},
   "outputs": [
    {
     "data": {
      "text/plain": [
       "'t'"
      ]
     },
     "execution_count": 7,
     "metadata": {},
     "output_type": "execute_result"
    }
   ],
   "source": [
    "#indexing in python\n",
    "x=(\"amrit\")\n",
    "x[4]#(no other signs ..simply variable name and a sqaure bracket follwed by the index number )\n",
    "#forward indexing "
   ]
  },
  {
   "cell_type": "code",
   "execution_count": 8,
   "metadata": {},
   "outputs": [
    {
     "data": {
      "text/plain": [
       "'i'"
      ]
     },
     "execution_count": 8,
     "metadata": {},
     "output_type": "execute_result"
    }
   ],
   "source": [
    "x=(\"amrit\")\n",
    "x[-2]\n",
    "#reverse indexing "
   ]
  },
  {
   "cell_type": "code",
   "execution_count": 9,
   "metadata": {},
   "outputs": [
    {
     "data": {
      "text/plain": [
       "'r'"
      ]
     },
     "execution_count": 9,
     "metadata": {},
     "output_type": "execute_result"
    }
   ],
   "source": [
    "mystring=(\"Hello World\")\n",
    "mystring[-3]"
   ]
  },
  {
   "cell_type": "code",
   "execution_count": 10,
   "metadata": {},
   "outputs": [
    {
     "data": {
      "text/plain": [
       "'r'"
      ]
     },
     "execution_count": 10,
     "metadata": {},
     "output_type": "execute_result"
    }
   ],
   "source": [
    "x='Hello World'\n",
    "x[-3]"
   ]
  },
  {
   "cell_type": "code",
   "execution_count": 28,
   "metadata": {},
   "outputs": [
    {
     "data": {
      "text/plain": [
       "'hello world it is good to have you here '"
      ]
     },
     "execution_count": 28,
     "metadata": {},
     "output_type": "execute_result"
    }
   ],
   "source": [
    "#concatanation in python \n",
    "x=\"hello world \"\n",
    "#y=\"it is good to have you here \"\n",
    "x=x+\"it is good to have you here \"\n",
    "x"
   ]
  },
  {
   "cell_type": "code",
   "execution_count": 29,
   "metadata": {},
   "outputs": [
    {
     "data": {
      "text/plain": [
       "'hello world it is good to have you here '"
      ]
     },
     "execution_count": 29,
     "metadata": {},
     "output_type": "execute_result"
    }
   ],
   "source": [
    "x"
   ]
  },
  {
   "cell_type": "code",
   "execution_count": 35,
   "metadata": {},
   "outputs": [
    {
     "data": {
      "text/plain": [
       "'snakesnakesnakesnakesnake'"
      ]
     },
     "execution_count": 35,
     "metadata": {},
     "output_type": "execute_result"
    }
   ],
   "source": [
    "#multiplication in concatenation \n",
    "python=\"snake\"\n",
    "python*5\n"
   ]
  },
  {
   "cell_type": "code",
   "execution_count": 9,
   "metadata": {},
   "outputs": [
    {
     "name": "stdout",
     "output_type": "stream",
     "text": [
      "hello this is amrit\n"
     ]
    }
   ],
   "source": [
    "#print(),indexing and .format\n",
    "#to insert string into print we have 2 method as .format() and fstring \n",
    "#.format\n",
    "print(\"hello this is {}\".format(\"amrit\"))#{}is very important to place additonal strings "
   ]
  },
  {
   "cell_type": "code",
   "execution_count": 18,
   "metadata": {},
   "outputs": [
    {
     "name": "stdout",
     "output_type": "stream",
     "text": [
      "hey this is amrit\n"
     ]
    }
   ],
   "source": [
    "#print(),indexing and .format\n",
    "#to insert string into print we have 2 method as .format() and fstring \n",
    "#.format\n",
    "print('hey {2} {1} {0}'.format(\"amrit\",\"is\",\"this\"))#always keepmin mind indexing start form \"o,1,2,3,4\"\n",
    "#else it will show you error as tuple index out of range "
   ]
  },
  {
   "cell_type": "code",
   "execution_count": 19,
   "metadata": {},
   "outputs": [
    {
     "name": "stdout",
     "output_type": "stream",
     "text": [
      "hey this is amrit\n"
     ]
    }
   ],
   "source": [
    "#using keyword and variable name in .format print function \n",
    "#print(\"\")\n",
    "print('hey {c} {b} {a}'.format(a=\"amrit\",b=\"is\",c=\"this\"))"
   ]
  },
  {
   "cell_type": "code",
   "execution_count": null,
   "metadata": {},
   "outputs": [],
   "source": [
    "name='amrit'\n",
    "print('hello my name is',name)\n",
    "print('hello my name is {}'.format(name))      #3 ways to use a print function \n",
    "print(f'hello my name is {name}')     #it helps in easy coding and less memory usag"
   ]
  },
  {
   "cell_type": "code",
   "execution_count": null,
   "metadata": {},
   "outputs": [],
   "source": []
  }
 ],
 "metadata": {
  "kernelspec": {
   "display_name": "Python 3",
   "language": "python",
   "name": "python3"
  },
  "language_info": {
   "codemirror_mode": {
    "name": "ipython",
    "version": 3
   },
   "file_extension": ".py",
   "mimetype": "text/x-python",
   "name": "python",
   "nbconvert_exporter": "python",
   "pygments_lexer": "ipython3",
   "version": "3.7.6"
  }
 },
 "nbformat": 4,
 "nbformat_minor": 4
}
